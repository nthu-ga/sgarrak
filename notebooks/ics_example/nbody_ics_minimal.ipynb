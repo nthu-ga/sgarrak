{
 "cells": [
  {
   "cell_type": "markdown",
   "id": "a090e6a1-b0d0-4f23-bbf4-db57a763cdb4",
   "metadata": {
    "tags": []
   },
   "source": [
    "Extract quantities of interest for initializing N-body intitial conditons\n",
    "\n",
    "Requirements:\n",
    " - an environment capable of running SatGen (although we don't run SatGen itself, the SatGen routines we use depend on various other packages).\n",
    " - an \"updated\" version of SatGen compatible with recent versions of `numpy`.\n",
    " - `pytables` (could be replaced with h5py by editing the read_hdf5 function below)"
   ]
  },
  {
   "cell_type": "raw",
   "id": "17be8b01-e710-4089-bc6c-a6a0c06ce58e",
   "metadata": {},
   "source": [
    "# For macs\n",
    "%config InlineBackend.figure_format=\"retina\"\n",
    "%config Completer.use_jedi = False"
   ]
  },
  {
   "cell_type": "code",
   "execution_count": 1,
   "id": "1fda9b3d-b2c4-4167-9894-5bef822debc6",
   "metadata": {},
   "outputs": [
    {
     "data": {
      "text/plain": [
       "'/data/apcooper/projects/sgarrak/notebooks/ics_example'"
      ]
     },
     "execution_count": 1,
     "metadata": {},
     "output_type": "execute_result"
    }
   ],
   "source": [
    "pwd"
   ]
  },
  {
   "cell_type": "code",
   "execution_count": 2,
   "id": "24b191dc-3a60-44df-9a44-96d341112938",
   "metadata": {
    "tags": []
   },
   "outputs": [
    {
     "name": "stdout",
     "output_type": "stream",
     "text": [
      ">>> Normalizing primordial power spectrum P(k)=(k/k_0)^n_s ...\n",
      "    such that sigma(R=8Mpc/h) =   0.8000.\n",
      ">>> Building interpolation grid for Green+19 M(<r|f_b,c)...\n",
      ">>> Building interpolation grid for Green+19 sigma(r|f_b,c)...\n",
      ">>> Building interpolation grid for Green+19 d2Phidr2(r|f_b,c)...\n",
      ">>> Building interpolator for Jiang+15 orbit sampler...\n",
      "[0.  0.5 1.  1.5]\n"
     ]
    }
   ],
   "source": [
    "import sys\n",
    "import os\n",
    "import time\n",
    "\n",
    "import numpy as np\n",
    "import tables as tb\n",
    "import warnings\n",
    "warnings.filterwarnings(\"ignore\", category=RuntimeWarning)\n",
    "import astropy.cosmology as cosmo\n",
    "\n",
    "from astropy.table import Table\n",
    "\n",
    "import copy\n",
    "\n",
    "SATGEN_PATH = '/data/apcooper/sfw/SatGen'\n",
    "if not SATGEN_PATH in sys.path:\n",
    "    sys.path.append(SATGEN_PATH)\n",
    "\n",
    "SATGEN_ETC_PATH = '/data/apcooper/sfw/SatGen/etc'\n",
    "if not SATGEN_ETC_PATH in sys.path:\n",
    "    sys.path.append(SATGEN_ETC_PATH)\n",
    "        \n",
    "# SatGen Imports\n",
    "import config as cfg\n",
    "import cosmo as co\n",
    "import evolve as ev\n",
    "from   profiles import NFW,Dekel,MN,Einasto,Green\n",
    "from   orbit import orbit\n",
    "import galhalo as gh\n",
    "import aux\n",
    "import init"
   ]
  },
  {
   "cell_type": "code",
   "execution_count": 3,
   "id": "76eadc27-ede4-4911-b859-0e92f6552c68",
   "metadata": {},
   "outputs": [],
   "source": [
    "import matplotlib.pyplot as pl\n",
    "%matplotlib inline"
   ]
  },
  {
   "cell_type": "code",
   "execution_count": 4,
   "id": "c5c686bc-41f5-4731-af7d-cc1cd3bdcdb0",
   "metadata": {},
   "outputs": [],
   "source": [
    "def read_hdf5(path,datasets,group='/'):\n",
    "    with tb.open_file(path, 'r') as f:\n",
    "        if isinstance(datasets,str):\n",
    "            # Just one dataset, read it as an array\n",
    "            data = f.get_node(f'{group}/{datasets}').read()\n",
    "        else:\n",
    "            # Assume nodes is an iterable of dataset names under group\n",
    "            data = dict([ (name,f.get_node(f'{group}/{name}').read()) for name in datasets])\n",
    "    return data"
   ]
  },
  {
   "cell_type": "markdown",
   "id": "89d1f41c-9ddb-4ce7-a580-071d24a09519",
   "metadata": {},
   "source": [
    "### Read PCHTrees output"
   ]
  },
  {
   "cell_type": "code",
   "execution_count": 5,
   "id": "3ba4b83e-0256-460e-a564-87fd99b45772",
   "metadata": {},
   "outputs": [],
   "source": [
    "# Millennium Cosmology (should match whatever was used in PCHTrees)\n",
    "hubble_parameter = 0.73\n",
    "cosmology = cosmo.FlatLambdaCDM(hubble_parameter*100,0.25)"
   ]
  },
  {
   "cell_type": "markdown",
   "id": "577fd573-788e-4ea7-9296-17d46a1d37c0",
   "metadata": {},
   "source": [
    "This notebook will use the example tree run in `./trees/`, under the directory containing this notebook. After compiling `pchtrees`, follow the README.md in that directory to create the trees.\n",
    "\n",
    "This should generate `./trees/output_progenitors_100_mw.hdf5`. This file contains only the \"first order progenitors\" and main branch mass histories, not the full trees."
   ]
  },
  {
   "cell_type": "code",
   "execution_count": 6,
   "id": "1aecc3cd-bf08-495b-87af-9cb405891ca6",
   "metadata": {},
   "outputs": [],
   "source": [
    "# Output of PCHTrees\n",
    "tree_file = './trees/output_progenitors_100_mw.hdf5'\n",
    "\n",
    "# Read main branch mass histories (immediately deal with little h)\n",
    "tree_main_branch_masses = read_hdf5(tree_file,'/Mainbranch/MainbranchMass')/hubble_parameter\n",
    "\n",
    "# Number of treees and tree levels\n",
    "ntrees, nlev = tree_main_branch_masses.shape\n",
    "\n",
    "# Read progenitor data (immediately deal with little h on masses)\n",
    "progenitor_dataset_names = [\"HostMass\",\"ProgenitorZred\",\"ProgenitorMass\",\"ProgenitorIlev\",\"TreeID\"]\n",
    "    \n",
    "progenitors = read_hdf5(tree_file, progenitor_dataset_names, group='/Progenitors')\n",
    "progenitors['ProgenitorMass'] = progenitors['ProgenitorMass']/hubble_parameter\n",
    "progenitors['HostMass']       = progenitors['HostMass']/hubble_parameter\n",
    "\n",
    "tree_redshifts = read_hdf5(tree_file,'Redshift',group='/OutputTimes')\n",
    "tree_t_lbk_gyr = cosmology.lookback_time(tree_redshifts).value\n",
    "tree_t_age_gyr = cosmology.age(tree_redshifts).value\n",
    "\n",
    "# Root mass is the the mass of the main branch at z=0\n",
    "root_mass = tree_main_branch_masses[:,0]"
   ]
  },
  {
   "cell_type": "markdown",
   "id": "bfc15b28-801e-4c9b-9f90-777b2e683981",
   "metadata": {
    "tags": []
   },
   "source": [
    "### Extract N-body ICs"
   ]
  },
  {
   "cell_type": "markdown",
   "id": "41d26462-83b8-4e8d-85ac-cecdfcfe0224",
   "metadata": {},
   "source": [
    "Since we're not going to run the SatGen evolution, we just need to extract the equivalent quantities from the tree files. We have to do a small amount of processing that paralells the setup in SatGen for things like orbits, stellar masses and concentrations.\n",
    "\n",
    "Really this should all be integrated in one code to avoid inconsistency, but the point here is to show the nuts and bolts."
   ]
  },
  {
   "cell_type": "code",
   "execution_count": 7,
   "id": "c439bedf-4f2f-465a-82f0-0408c156bb50",
   "metadata": {},
   "outputs": [
    {
     "data": {
      "text/plain": [
       "(1, 128)"
      ]
     },
     "execution_count": 7,
     "metadata": {},
     "output_type": "execute_result"
    }
   ],
   "source": [
    "tree_main_branch_masses.shape"
   ]
  },
  {
   "cell_type": "code",
   "execution_count": 8,
   "id": "e1a0868f-4fc2-4733-b7e5-4c5ffe5d2d66",
   "metadata": {},
   "outputs": [
    {
     "name": "stdout",
     "output_type": "stream",
     "text": [
      "There are 1 merger trees in the file.\n",
      "There are 128 time levels in each tree.\n"
     ]
    }
   ],
   "source": [
    "print(f'There are {tree_main_branch_masses.shape[0]:d} merger trees in the file.')\n",
    "print(f'There are {tree_main_branch_masses.shape[1]:d} time levels in each tree.')"
   ]
  },
  {
   "cell_type": "markdown",
   "id": "8ab5f34c-178e-4354-b374-90e4518f49ed",
   "metadata": {},
   "source": [
    "We first select a tree, and find all the progenitors in that tree."
   ]
  },
  {
   "cell_type": "code",
   "execution_count": 9,
   "id": "5ecdf9fb-f0c8-40fc-80bf-d9db0a8499e3",
   "metadata": {},
   "outputs": [],
   "source": [
    "itree = 0"
   ]
  },
  {
   "cell_type": "markdown",
   "id": "70798d64-faa1-4153-af50-e37c55afb670",
   "metadata": {},
   "source": [
    "We have to be careful to set the concentration of the host consistently along the main branch, so that all progenitors use the same host concentration (as opposed to randomly drawing the host concentration for each merger event)"
   ]
  },
  {
   "cell_type": "code",
   "execution_count": 10,
   "id": "58753f27-277c-41f7-987c-a9cba33058c0",
   "metadata": {},
   "outputs": [],
   "source": [
    "def halo_mah_to_zhao_c_nfw(mass, t_age_gyr):\n",
    "    \"\"\"\n",
    "    \"\"\"\n",
    "    h_c_nfw = list()\n",
    "    nlev = np.atleast_1d(mass).shape[0]\n",
    "    for i in range(0,nlev):\n",
    "        h_c_nfw.append(init.c2_fromMAH(np.atleast_1d(mass)[i:],np.atleast_1d(t_age_gyr)[i:]))\n",
    "    return np.array(h_c_nfw)"
   ]
  },
  {
   "cell_type": "code",
   "execution_count": 11,
   "id": "8cf25b4a-8e9b-424a-88fb-074166f37652",
   "metadata": {},
   "outputs": [],
   "source": [
    "# Note that we pass arrays here, and get an array back: one concentration for the host at each level.\n",
    "host_c = halo_mah_to_zhao_c_nfw(tree_main_branch_masses[itree,:], tree_t_age_gyr)"
   ]
  },
  {
   "cell_type": "markdown",
   "id": "5f7635e5-058e-43dd-b770-841d3ff44780",
   "metadata": {},
   "source": [
    "We now proceed to choose ICs for a specific progenitor. We first identify all the progenitors in the selected tree:"
   ]
  },
  {
   "cell_type": "code",
   "execution_count": 12,
   "id": "c4871127-a8ed-46a5-a1ba-d2bd1a322cb6",
   "metadata": {},
   "outputs": [
    {
     "name": "stdout",
     "output_type": "stream",
     "text": [
      "There are 376 progenitors in tree 0.\n"
     ]
    }
   ],
   "source": [
    "prog_this_tree = np.flatnonzero(progenitors['TreeID'] == itree)\n",
    "print(f'There are {len(prog_this_tree):d} progenitors in tree {itree:d}.')"
   ]
  },
  {
   "cell_type": "markdown",
   "id": "849cfa5e-4f24-4f69-9717-c9b0d335164a",
   "metadata": {},
   "source": [
    "To illustrate the process, we select only one progenitor. For experiments with single progenitors, it helps to know which progenitors are the most massive."
   ]
  },
  {
   "cell_type": "code",
   "execution_count": 13,
   "id": "14eded74-89d1-4f30-94be-350cf6dcc8f3",
   "metadata": {},
   "outputs": [],
   "source": [
    "prog_mass_order = np.argsort(progenitors['ProgenitorMass'])[::-1] # Largest first"
   ]
  },
  {
   "cell_type": "markdown",
   "id": "53891075-9e4e-4582-8112-81f64458a835",
   "metadata": {},
   "source": [
    "The 10 most massive are:"
   ]
  },
  {
   "cell_type": "code",
   "execution_count": 14,
   "id": "f5acd639-4d8f-485f-a5c8-63d541e6c7ae",
   "metadata": {},
   "outputs": [
    {
     "data": {
      "text/plain": [
       "array([163, 343,  36, 241,  66, 195, 309, 335, 189, 205])"
      ]
     },
     "execution_count": 14,
     "metadata": {},
     "output_type": "execute_result"
    }
   ],
   "source": [
    "prog_mass_order[0:10]"
   ]
  },
  {
   "cell_type": "code",
   "execution_count": 15,
   "id": "600d1f73-be75-4f33-9396-29797f21b7f1",
   "metadata": {},
   "outputs": [],
   "source": [
    "iprog = 163"
   ]
  },
  {
   "cell_type": "markdown",
   "id": "6a8ce8ef-b700-427e-bbe3-a430841ef76d",
   "metadata": {},
   "source": [
    "Now extract properties for this progenitor:"
   ]
  },
  {
   "cell_type": "code",
   "execution_count": 16,
   "id": "488494e2-abad-49a2-b665-6db4670d4a48",
   "metadata": {},
   "outputs": [],
   "source": [
    "# Infall redshift \n",
    "prog_zred = progenitors['ProgenitorZred'][prog_this_tree][iprog]\n",
    "# Infall level\n",
    "prog_ilev = progenitors['ProgenitorIlev'][prog_this_tree][iprog]\n",
    "# Mass (Msol)\n",
    "prog_mass = progenitors['ProgenitorMass'][prog_this_tree][iprog]"
   ]
  },
  {
   "cell_type": "markdown",
   "id": "e301c1d7-0363-4f1d-be0d-5e50e066c7e0",
   "metadata": {},
   "source": [
    "To draw orbital properties for the progenitor, we also need the mass of the host at the time of infall:"
   ]
  },
  {
   "cell_type": "code",
   "execution_count": 17,
   "id": "bcee0d69-d507-429a-a03b-faaeb3604c2b",
   "metadata": {},
   "outputs": [],
   "source": [
    "host_mass = tree_main_branch_masses[itree,prog_ilev]"
   ]
  },
  {
   "cell_type": "code",
   "execution_count": 18,
   "id": "dac9b0c4-ba2e-4b3e-8ce2-c4e16c1f308d",
   "metadata": {},
   "outputs": [
    {
     "name": "stdout",
     "output_type": "stream",
     "text": [
      "At the time of infall (z = 1.449), the halo masses are:\n",
      "Host:       M200c = 1.06e+12 Msol\n",
      "Progenitor: M200c = 7.64e+10 Msol\n"
     ]
    }
   ],
   "source": [
    "print(f'At the time of infall (z = {prog_zred:<5.3f}), the halo masses are:')\n",
    "print(f'Host:       M200c = {host_mass:7.2e} Msol')\n",
    "print(f'Progenitor: M200c = {prog_mass:7.2e} Msol')"
   ]
  },
  {
   "cell_type": "markdown",
   "id": "961cde5c-c107-432f-b531-a95bc27bc0c7",
   "metadata": {},
   "source": [
    "We can initialize the progenitor concentration, using the DM14 distribution in SatGen:"
   ]
  },
  {
   "cell_type": "code",
   "execution_count": 19,
   "id": "1629c90f-9178-43aa-b6b3-a549ff69b9f1",
   "metadata": {},
   "outputs": [
    {
     "name": "stdout",
     "output_type": "stream",
     "text": [
      "Prog: c = 6.461\n"
     ]
    }
   ],
   "source": [
    "prog_c = init.concentration(prog_mass,prog_zred,choice='DM14')\n",
    "print(f'Prog: c = {prog_c:5.3f}')"
   ]
  },
  {
   "cell_type": "markdown",
   "id": "9f0c01f6-69f4-489a-bcc3-d77042bffa33",
   "metadata": {},
   "source": [
    "We can assign a stellar mass to the progenitor using the Behroozi 13 relation (from SatGen):"
   ]
  },
  {
   "cell_type": "code",
   "execution_count": 20,
   "id": "ab015c6b-c723-4ea6-a1de-366bca441101",
   "metadata": {},
   "outputs": [
    {
     "name": "stdout",
     "output_type": "stream",
     "text": [
      "Prog: Mstar = 7.64e+10 Msol\n"
     ]
    }
   ],
   "source": [
    "prog_mstar = init.Mstar(prog_mass, prog_zred, choice='B13')\n",
    "print(f'Prog: Mstar = {prog_mass:5.3g} Msol')"
   ]
  },
  {
   "cell_type": "markdown",
   "id": "039247a5-33c7-4cca-b7f5-2c95c8cf8e92",
   "metadata": {},
   "source": [
    "To initialize the orbit using SatGen, we first have to create a SatGen \"DensityProfile\" object for the host:"
   ]
  },
  {
   "cell_type": "code",
   "execution_count": 21,
   "id": "5c17fd4c-0bee-4e5f-be79-8e5c26e9ed19",
   "metadata": {},
   "outputs": [],
   "source": [
    "host_profile = NFW(host_mass, host_c[prog_ilev], Delta=200, z=prog_zred)"
   ]
  },
  {
   "cell_type": "markdown",
   "id": "7b4e75ce-7b96-4ac5-9bb1-e84e6bed2a95",
   "metadata": {},
   "source": [
    "Note that we use prog_ilev to extract the concentration of the host."
   ]
  },
  {
   "cell_type": "markdown",
   "id": "5723ee41-0221-410a-8d99-c24b4b1c8a9a",
   "metadata": {},
   "source": [
    "Now use SatGen to set up the orbit."
   ]
  },
  {
   "cell_type": "code",
   "execution_count": 22,
   "id": "f7fb0f44-5e40-466b-ae07-668a60cd9948",
   "metadata": {},
   "outputs": [],
   "source": [
    "vel_ratio, gamma = init.ZZLi2020(host_profile, prog_mass, prog_zred)\n",
    "xv = init.orbit_from_Li2020(host_profile, vel_ratio, gamma)"
   ]
  },
  {
   "cell_type": "markdown",
   "id": "03acd73b-fb27-4b34-85b3-90d4a7210a65",
   "metadata": {},
   "source": [
    "`xv` contains the phase space coordinates of the progenitor in cylindrical coordinates, i.e. $(R,\\theta,Z, v_R, v_\\theta, v_Z)$. The `R` coordinate is in the disk plane (in this case hypothetical, since there is no disk). I think the halo is always spherical in SatGen.\n",
    "\n",
    "The angle $\\theta$ is in radians, from 0 to $2\\pi$.\n",
    "\n",
    "I think $R^2 + Z^2 \\equiv R_\\mathrm{vir}^2$ by construction, i.e. these orbital properties are defined at $R_\\mathrm{vir}$. But see SatGen papers for details, I suppose."
   ]
  },
  {
   "cell_type": "markdown",
   "id": "cc48c1f0-f8a1-4d61-976a-1ec77f203f78",
   "metadata": {},
   "source": [
    "In summary, the properties of interest are:"
   ]
  },
  {
   "cell_type": "code",
   "execution_count": 25,
   "id": "a7e08363-f1af-4057-9ff2-47bc6a9e97f7",
   "metadata": {},
   "outputs": [
    {
     "data": {
      "text/plain": [
       "(1056351100000.0,\n",
       " 4.046165222743265,\n",
       " 76351410000.0,\n",
       " 6.461338690623547,\n",
       " 71722798.38227697,\n",
       " 1.4488189,\n",
       " array([  57.86201032,    3.05089878,  107.41808053,  -75.57956348,\n",
       "         -31.87047875, -154.42320111]))"
      ]
     },
     "execution_count": 25,
     "metadata": {},
     "output_type": "execute_result"
    }
   ],
   "source": [
    "host_mass, host_c[prog_ilev], prog_mass, prog_c, prog_mstar, prog_zred, xv"
   ]
  },
  {
   "cell_type": "code",
   "execution_count": null,
   "id": "13917d5e-5bdb-4540-977b-78b0458ffbe0",
   "metadata": {},
   "outputs": [],
   "source": []
  },
  {
   "cell_type": "raw",
   "id": "05e119eb-4f8a-4517-93c9-cf196d011fc4",
   "metadata": {},
   "source": [
    "# Note on tree levels\n",
    "\n",
    "\"Levels\" are integer indicies into the list of output times.\n",
    "\n",
    "Tree    Problem\n",
    "Level   Level     Host  Progenitor\n",
    "         \n",
    "N       0         ( )   ( )  \"Infall level\" (initial conditions)\n",
    "                   |    /\n",
    "                   |   /\n",
    "                   |  /\n",
    "                   | /\n",
    "N-1     1         (  )       \"Merger level\" \n",
    "                   :\n",
    "                   :\n",
    "0       F         (  )       \"Root of tree\" (final time for progenitor evolution)\n",
    "\n",
    "   \n",
    "The first \"step\" of orbit evolution is between the initial conditions (relative level 0 for this specfic problem -- not to be confused with the \"absolute\" time level of the tree) and the first merged level (relative level 1).\n",
    "\n",
    "For the purposes of this notebook, the progrenitor is assumed to cross the virial radius of the host at problem level 0, i.e. the initial conditions are assumed to correspond to the time of infall. More specifically, they are assumed to correspond to whatever point in time defines the distribution of initial orbits from which the initial conditions of the progenitor are drawn.\n",
    "\n",
    "Note that, in this system, it is ambiguous how (hence when) to define \"the time of the merger\" between the two independent halos for the purpose of setting up an N-body simulation. Even if the merger time is defined as the time when the two virial radii touch, or when the virial radius of the progentior is entirely inside that of the host, or similar, it is unclear how to map this to the EPS definition."
   ]
  },
  {
   "cell_type": "code",
   "execution_count": null,
   "id": "c32cf053-bce0-447e-9ba0-22f66bf7ebb9",
   "metadata": {},
   "outputs": [],
   "source": []
  }
 ],
 "metadata": {
  "kernelspec": {
   "display_name": "satgen",
   "language": "python",
   "name": "satgen"
  },
  "language_info": {
   "codemirror_mode": {
    "name": "ipython",
    "version": 3
   },
   "file_extension": ".py",
   "mimetype": "text/x-python",
   "name": "python",
   "nbconvert_exporter": "python",
   "pygments_lexer": "ipython3",
   "version": "3.11.12"
  }
 },
 "nbformat": 4,
 "nbformat_minor": 5
}
